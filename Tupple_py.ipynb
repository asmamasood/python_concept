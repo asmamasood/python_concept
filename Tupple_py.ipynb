{
  "nbformat": 4,
  "nbformat_minor": 0,
  "metadata": {
    "colab": {
      "provenance": [],
      "authorship_tag": "ABX9TyNjNAVHlquCe7jdgeAUmVL2",
      "include_colab_link": true
    },
    "kernelspec": {
      "name": "python3",
      "display_name": "Python 3"
    },
    "language_info": {
      "name": "python"
    }
  },
  "cells": [
    {
      "cell_type": "markdown",
      "metadata": {
        "id": "view-in-github",
        "colab_type": "text"
      },
      "source": [
        "<a href=\"https://colab.research.google.com/github/asmamasood/python_concept/blob/main/Tupple_py.ipynb\" target=\"_parent\"><img src=\"https://colab.research.google.com/assets/colab-badge.svg\" alt=\"Open In Colab\"/></a>"
      ]
    },
    {
      "cell_type": "code",
      "execution_count": null,
      "metadata": {
        "id": "awBXWVIfhRXT"
      },
      "outputs": [],
      "source": [
        "# =================\n",
        "# Tuples in Python\n",
        "# =================\n",
        "\n",
        "# 1. Creating a simple tuple\n",
        "colors = (\"red\", \"green\", \"blue\")\n",
        "print(\"Colors:\", colors)\n",
        "\n",
        "# 2. Tuple with mixed data types\n",
        "person = (\"Asma\", 24, True)\n",
        "print(\"Person Info:\", person)\n",
        "\n",
        "# 3. Accessing tuple elements by index\n",
        "print(\"First color:\", colors[0])  # Output: red\n",
        "\n",
        "# 4. Nested tuple (tuple inside a tuple)\n",
        "nested = (\"apple\", (1, 2, 3), [\"x\", \"y\"])\n",
        "print(\"Nested Tuple:\", nested)\n",
        "print(\"Accessing nested tuple item:\", nested[1][1])  # Output: 2\n",
        "\n",
        "# 5. Tuple unpacking\n",
        "name, age, is_student = person\n",
        "print(\"Name:\", name)\n",
        "print(\"Age:\", age)\n",
        "print(\"Student?\", is_student)\n",
        "\n",
        "# 6. Using tuples in a loop\n",
        "for color in colors:\n",
        "    print(\"I like\", color)\n",
        "\n",
        "# 7. Tuples are immutable\n",
        "immutable = (\"python\", \"java\", \"c++\")\n",
        "# immutable[0] = \"javascript\"  # ❌ This will raise an error\n",
        "print(\"Immutable Tuple:\", immutable)\n",
        "\n",
        "# 8. Tuple with one item (must include a comma)\n",
        "single = (\"hello\",)\n",
        "print(\"Single-item tuple:\", single)\n",
        "print(\"Type of single:\", type(single))  # Output: <class 'tuple'>\n",
        "\n",
        "# 9. Converting a list to a tuple\n",
        "my_list = [1, 2, 3]\n",
        "my_tuple = tuple(my_list)\n",
        "print(\"Converted Tuple:\", my_tuple)\n",
        "\n",
        "# 10. Using tuple as dictionary key (because it’s immutable)\n",
        "location = {(33.6844, 73.0479): \"Islamabad\"}\n",
        "print(\"City at coordinates:\", location[(33.6844, 73.0479)])\n",
        "\n",
        "# 11. Using len() and slicing with tuples\n",
        "numbers = (10, 20, 30, 40, 50)\n",
        "print(\"Length of numbers:\", len(numbers))\n",
        "print(\"Slice [1:4]:\", numbers[1:4])  # Output: (20, 30, 40)\n"
      ]
    }
  ]
}