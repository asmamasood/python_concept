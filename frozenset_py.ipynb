{
  "nbformat": 4,
  "nbformat_minor": 0,
  "metadata": {
    "colab": {
      "provenance": [],
      "authorship_tag": "ABX9TyO7W/NKKSL1Yib6IBFEg+kA",
      "include_colab_link": true
    },
    "kernelspec": {
      "name": "python3",
      "display_name": "Python 3"
    },
    "language_info": {
      "name": "python"
    }
  },
  "cells": [
    {
      "cell_type": "markdown",
      "metadata": {
        "id": "view-in-github",
        "colab_type": "text"
      },
      "source": [
        "<a href=\"https://colab.research.google.com/github/asmamasood/python_concept/blob/main/frozenset_py.ipynb\" target=\"_parent\"><img src=\"https://colab.research.google.com/assets/colab-badge.svg\" alt=\"Open In Colab\"/></a>"
      ]
    },
    {
      "cell_type": "code",
      "execution_count": null,
      "metadata": {
        "id": "oXoGo3eDocW0"
      },
      "outputs": [],
      "source": [
        "\n",
        "# Frozenset Example in Python\n",
        "\n",
        "\n",
        "# 1. Creating a frozenset from a list with duplicates\n",
        "frozen_fruits = frozenset([\"apple\", \"banana\", \"apple\", \"orange\"])\n",
        "print(\"Frozen Fruits:\", frozen_fruits)\n",
        "# Output: frozenset({'banana', 'orange', 'apple'}) — duplicates removed\n",
        "\n",
        "# 2. Iterating over a frozenset\n",
        "print(\"\\nLooping through frozen set:\")\n",
        "for fruit in frozen_fruits:\n",
        "    print(fruit)\n",
        "\n",
        "# 3. Set operations with frozensets\n",
        "set1 = frozenset([1, 2, 3, 4])\n",
        "set2 = frozenset([3, 4, 5, 6])\n",
        "\n",
        "print(\"\\nUnion:\", set1 | set2)              # frozenset({1, 2, 3, 4, 5, 6})\n",
        "print(\"Intersection:\", set1 & set2)         # frozenset({3, 4})\n",
        "print(\"Difference:\", set1 - set2)           # frozenset({1, 2})\n",
        "print(\"Symmetric Difference:\", set1 ^ set2) # frozenset({1, 2, 5, 6})\n",
        "\n",
        "# 4. Frozenset as dictionary key (immutable, hashable)\n",
        "user_roles = {\n",
        "    frozenset([\"admin\", \"editor\"]): \"Full Access\",\n",
        "    frozenset([\"viewer\"]): \"Read Only\"\n",
        "}\n",
        "print(\"\\nAccess using frozenset key:\", user_roles[frozenset([\"admin\", \"editor\"])])\n",
        "\n",
        "# 5. Trying to modify a frozenset (will cause error)\n",
        "# frozen_fruits.add(\"grape\")  ❌ Error: frozenset has no attribute 'add'\n",
        "# frozen_fruits.remove(\"banana\")  ❌ Error: frozenset has no attribute 'remove'\n"
      ]
    }
  ]
}