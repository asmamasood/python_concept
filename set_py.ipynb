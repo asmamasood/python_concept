{
  "nbformat": 4,
  "nbformat_minor": 0,
  "metadata": {
    "colab": {
      "provenance": [],
      "authorship_tag": "ABX9TyM1w+1r2NxSb8QUJATkwChv",
      "include_colab_link": true
    },
    "kernelspec": {
      "name": "python3",
      "display_name": "Python 3"
    },
    "language_info": {
      "name": "python"
    }
  },
  "cells": [
    {
      "cell_type": "markdown",
      "metadata": {
        "id": "view-in-github",
        "colab_type": "text"
      },
      "source": [
        "<a href=\"https://colab.research.google.com/github/asmamasood/python_concept/blob/main/set_py.ipynb\" target=\"_parent\"><img src=\"https://colab.research.google.com/assets/colab-badge.svg\" alt=\"Open In Colab\"/></a>"
      ]
    },
    {
      "cell_type": "code",
      "execution_count": null,
      "metadata": {
        "id": "fFO4xojvm8gR"
      },
      "outputs": [],
      "source": [
        "\n",
        "# Sets in Python - Examples\n",
        "\n",
        "\n",
        "# 1. Creating a set\n",
        "fruits = {\"apple\", \"banana\", \"cherry\", \"apple\"}  # duplicates are removed\n",
        "print(\"Fruits Set:\", fruits)\n",
        "\n",
        "# 2. Adding an item to a set\n",
        "fruits.add(\"orange\")\n",
        "print(\"After adding 'orange':\", fruits)\n",
        "\n",
        "# 3. Removing an item\n",
        "fruits.remove(\"banana\")\n",
        "print(\"After removing 'banana':\", fruits)\n",
        "\n",
        "# 4. Discarding an item (no error if not found)\n",
        "fruits.discard(\"grape\")  # Does not throw error if 'grape' is not found\n",
        "\n",
        "# 5. Looping through a set\n",
        "print(\"🔁 Looping through fruits set:\")\n",
        "for fruit in fruits:\n",
        "    print(fruit)\n",
        "\n",
        "# 6. Checking membership\n",
        "if \"apple\" in fruits:\n",
        "    print(\"Yes, 'apple' is in the set.\")\n",
        "\n",
        "# 7. Length of a set\n",
        "print(\"Total items in fruits set:\", len(fruits))\n",
        "\n",
        "# 8. Set with mixed data types\n",
        "mixed = {1, \"hello\", 3.14, True}\n",
        "print(\"Mixed set:\", mixed)\n",
        "\n",
        "# 9. Converting list to set (to remove duplicates)\n",
        "numbers = [1, 2, 2, 3, 4, 4, 5]\n",
        "unique_numbers = set(numbers)\n",
        "print(\"Unique numbers:\", unique_numbers)\n",
        "\n",
        "# 10. Set operations\n",
        "A = {1, 2, 3, 4}\n",
        "B = {3, 4, 5, 6}\n",
        "\n",
        "print(\"A union B:\", A | B)          # {1, 2, 3, 4, 5, 6}\n",
        "print(\"A intersection B:\", A & B)   # {3, 4}\n",
        "print(\"A difference B:\", A - B)     # {1, 2}\n",
        "print(\"A symmetric difference B:\", A ^ B)  # {1, 2, 5, 6}\n",
        "\n",
        "# 11. Set comparisons\n",
        "print(\"Is A a subset of B?\", A <= B)\n",
        "print(\"Is A a superset of B?\", A >= B)\n",
        "print(\"Are A and B disjoint?\", A.isdisjoint(B))\n"
      ]
    }
  ]
}