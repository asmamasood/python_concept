{
  "nbformat": 4,
  "nbformat_minor": 0,
  "metadata": {
    "colab": {
      "provenance": [],
      "authorship_tag": "ABX9TyOzypJCau/4IjWZ6wzdYP6j",
      "include_colab_link": true
    },
    "kernelspec": {
      "name": "python3",
      "display_name": "Python 3"
    },
    "language_info": {
      "name": "python"
    }
  },
  "cells": [
    {
      "cell_type": "markdown",
      "metadata": {
        "id": "view-in-github",
        "colab_type": "text"
      },
      "source": [
        "<a href=\"https://colab.research.google.com/github/asmamasood/python_concept/blob/main/Control_flow_py.ipynb\" target=\"_parent\"><img src=\"https://colab.research.google.com/assets/colab-badge.svg\" alt=\"Open In Colab\"/></a>"
      ]
    },
    {
      "cell_type": "code",
      "execution_count": null,
      "metadata": {
        "id": "-66twrBAS1E7"
      },
      "outputs": [],
      "source": [
        "# If-else example\n",
        "age = 18\n",
        "if age >= 18:\n",
        "    print(\"You are an adult.\")\n",
        "else:\n",
        "    print(\"You are a minor.\")\n",
        "\n",
        "# Elif example\n",
        "score = 75\n",
        "if score >= 90:\n",
        "    print(\"Grade: A\")\n",
        "elif score >= 80:\n",
        "    print(\"Grade: B\")\n",
        "elif score >= 70:\n",
        "    print(\"Grade: C\")\n",
        "else:\n",
        "    print(\"Grade: F\")\n"
      ]
    },
    {
      "cell_type": "code",
      "source": [
        "# Nested if example\n",
        "x = 10\n",
        "if x > 0:\n",
        "    if x % 2 == 0:\n",
        "        print(\"x is a positive even number.\")\n",
        "    else:\n",
        "        print(\"x is a positive odd number.\")"
      ],
      "metadata": {
        "id": "Qqy73Y5SWckQ"
      },
      "execution_count": null,
      "outputs": []
    },
    {
      "cell_type": "code",
      "source": [
        "# Control Flow Example: Checking temperature\n",
        "\n",
        "temperature = 30  # You can change this value to test different conditions\n",
        "\n",
        "if temperature > 35:\n",
        "    print(\"It's too hot outside. Stay hydrated!\")\n",
        "elif temperature >= 20 and temperature <= 35:\n",
        "    print(\"The weather is pleasant.\")\n",
        "elif temperature >= 10 and temperature < 20:\n",
        "    print(\"It's getting a bit chilly.\")\n",
        "else:\n",
        "    print(\"It's cold. Wear warm clothes!\")\n"
      ],
      "metadata": {
        "id": "1tigbvlVWYmw"
      },
      "execution_count": null,
      "outputs": []
    }
  ]
}