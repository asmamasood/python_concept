{
  "nbformat": 4,
  "nbformat_minor": 0,
  "metadata": {
    "colab": {
      "provenance": [],
      "gpuType": "V28",
      "authorship_tag": "ABX9TyMqPUbnMNbsETeZhQreDnhq",
      "include_colab_link": true
    },
    "kernelspec": {
      "name": "python3",
      "display_name": "Python 3"
    },
    "language_info": {
      "name": "python"
    },
    "accelerator": "TPU"
  },
  "cells": [
    {
      "cell_type": "markdown",
      "metadata": {
        "id": "view-in-github",
        "colab_type": "text"
      },
      "source": [
        "<a href=\"https://colab.research.google.com/github/asmamasood/python_concept/blob/main/Loops_py.ipynb\" target=\"_parent\"><img src=\"https://colab.research.google.com/assets/colab-badge.svg\" alt=\"Open In Colab\"/></a>"
      ]
    },
    {
      "cell_type": "code",
      "source": [
        "\n",
        "# For loop example\n",
        "fruits = [\"apple\", \"banana\", \"cherry\"]\n",
        "for fruit in fruits:\n",
        "    print(fruit)\n"
      ],
      "metadata": {
        "id": "vb7UStxbb7T9"
      },
      "execution_count": null,
      "outputs": []
    },
    {
      "cell_type": "code",
      "source": [
        "# While loop example\n",
        "count = 0\n",
        "while count < 3:\n",
        "    print(\"Count is:\", count)\n",
        "    count += 1"
      ],
      "metadata": {
        "id": "4pUa2Yivb8zb"
      },
      "execution_count": null,
      "outputs": []
    },
    {
      "cell_type": "code",
      "source": [
        "# Break statement\n",
        "for num in range(10):\n",
        "    if num == 5:\n",
        "        break\n",
        "    print(num)"
      ],
      "metadata": {
        "id": "WvvI5WAVcE6Y"
      },
      "execution_count": null,
      "outputs": []
    },
    {
      "cell_type": "code",
      "source": [
        "# Continue statement\n",
        "for num in range(5):\n",
        "    if num == 2:\n",
        "        continue\n",
        "    print(\"Number:\", num)"
      ],
      "metadata": {
        "id": "0U1LSK0ccMdX"
      },
      "execution_count": null,
      "outputs": []
    },
    {
      "cell_type": "code",
      "source": [
        "# Nested Loop Example: Multiplication Table from 1 to 3\n",
        "\n",
        "for i in range(1, 4):  # Outer loop for numbers 1 to 3\n",
        "    print(f\"Multiplication table of {i}:\")\n",
        "    for j in range(1, 6):  # Inner loop for 1 to 5\n",
        "        print(f\"{i} x {j} = {i * j}\")\n",
        "    print()  # Empty line between tables\n"
      ],
      "metadata": {
        "id": "IzkfncQLe3IF"
      },
      "execution_count": null,
      "outputs": []
    }
  ]
}