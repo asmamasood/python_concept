{
  "nbformat": 4,
  "nbformat_minor": 0,
  "metadata": {
    "colab": {
      "provenance": [],
      "authorship_tag": "ABX9TyO8Ow0hXzBTItb7wKvEXG6x",
      "include_colab_link": true
    },
    "kernelspec": {
      "name": "python3",
      "display_name": "Python 3"
    },
    "language_info": {
      "name": "python"
    }
  },
  "cells": [
    {
      "cell_type": "markdown",
      "metadata": {
        "id": "view-in-github",
        "colab_type": "text"
      },
      "source": [
        "<a href=\"https://colab.research.google.com/github/asmamasood/python_concept/blob/main/Control_flow_py.ipynb\" target=\"_parent\"><img src=\"https://colab.research.google.com/assets/colab-badge.svg\" alt=\"Open In Colab\"/></a>"
      ]
    },
    {
      "cell_type": "code",
      "execution_count": null,
      "metadata": {
        "id": "-66twrBAS1E7"
      },
      "outputs": [],
      "source": [
        "# If-else example\n",
        "age = 18\n",
        "if age >= 18:\n",
        "    print(\"You are an adult.\")\n",
        "else:\n",
        "    print(\"You are a minor.\")\n",
        "\n",
        "# Elif example\n",
        "score = 75\n",
        "if score >= 90:\n",
        "    print(\"Grade: A\")\n",
        "elif score >= 80:\n",
        "    print(\"Grade: B\")\n",
        "elif score >= 70:\n",
        "    print(\"Grade: C\")\n",
        "else:\n",
        "    print(\"Grade: F\")\n"
      ]
    },
    {
      "cell_type": "code",
      "source": [
        "# Nested if example\n",
        "x = 10\n",
        "if x > 0:\n",
        "    if x % 2 == 0:\n",
        "        print(\"x is a positive even number.\")\n",
        "    else:\n",
        "        print(\"x is a positive odd number.\")"
      ],
      "metadata": {
        "id": "Qqy73Y5SWckQ"
      },
      "execution_count": null,
      "outputs": []
    },
    {
      "cell_type": "code",
      "source": [
        "# Control Flow Example: Checking temperature\n",
        "\n",
        "temperature = 30  # You can change this value to test different conditions\n",
        "\n",
        "if temperature > 35:\n",
        "    print(\"It's too hot outside. Stay hydrated!\")\n",
        "elif temperature >= 20 and temperature <= 35:\n",
        "    print(\"The weather is pleasant.\")\n",
        "elif temperature >= 10 and temperature < 20:\n",
        "    print(\"It's getting a bit chilly.\")\n",
        "else:\n",
        "    print(\"It's cold. Wear warm clothes!\")\n"
      ],
      "metadata": {
        "id": "1tigbvlVWYmw"
      },
      "execution_count": null,
      "outputs": []
    },
    {
      "cell_type": "code",
      "source": [
        "\n",
        "\n",
        "#  for Loop - Iterating over a list\n",
        "print(\"🔹 Example : for loop\")\n",
        "fruits = [\"apple\", \"banana\", \"cherry\"]\n",
        "\n",
        "for fruit in fruits:\n",
        "    print(\"I like\", fruit)\n",
        "\n",
        "print(\"\\n\")\n",
        "\n",
        "#  while Loop - Countdown\n",
        "print(\"🔹 Example : while loop\")\n",
        "count = 5\n",
        "\n",
        "while count > 0:\n",
        "    print(\"Counting down:\", count)\n",
        "    count -= 1\n",
        "\n",
        "print(\"\\n\")\n",
        "\n",
        "#  break Statement - Stop loop when number is found\n",
        "print(\"🔹 Example : break statement\")\n",
        "numbers = [1, 3, 5, 7, 9]\n",
        "\n",
        "for num in numbers:\n",
        "    if num == 5:\n",
        "        print(\"Number 5 found! Breaking the loop.\")\n",
        "        break\n",
        "    print(\"Checking number:\", num)\n",
        "\n",
        "print(\"\\n\")\n",
        "\n",
        "#  continue Statement - Skip even numbers\n",
        "print(\"🔹 Example : continue statement\")\n",
        "for i in range(1, 6):\n",
        "    if i % 2 == 0:\n",
        "        continue  # Skip this number\n",
        "    print(\"Odd number:\", i)\n",
        "\n",
        "print(\"\\n\")\n",
        "\n",
        "#  pass Statement - Placeholder\n",
        "print(\"🔹 Example : pass statement\")\n",
        "for i in range(3):\n",
        "    pass  # Nothing happens, placeholder\n",
        "\n",
        "print(\"Loop with pass statement completed.\")\n",
        "\n",
        "print(\"\\n\")\n",
        "\n",
        "#  try-except - Error handling\n",
        "print(\"🔹 Example : try-except\")\n",
        "try:\n",
        "    result = 10 / 0\n",
        "except ZeroDivisionError:\n",
        "    print(\"You can't divide by zero!\")\n"
      ],
      "metadata": {
        "id": "zUG7wOAJnGSs"
      },
      "execution_count": null,
      "outputs": []
    }
  ]
}