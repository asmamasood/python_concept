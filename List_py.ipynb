{
  "nbformat": 4,
  "nbformat_minor": 0,
  "metadata": {
    "colab": {
      "provenance": [],
      "authorship_tag": "ABX9TyNI5SHWAlEVrdsKGGybUqeg",
      "include_colab_link": true
    },
    "kernelspec": {
      "name": "python3",
      "display_name": "Python 3"
    },
    "language_info": {
      "name": "python"
    }
  },
  "cells": [
    {
      "cell_type": "markdown",
      "metadata": {
        "id": "view-in-github",
        "colab_type": "text"
      },
      "source": [
        "<a href=\"https://colab.research.google.com/github/asmamasood/python_concept/blob/main/List_py.ipynb\" target=\"_parent\"><img src=\"https://colab.research.google.com/assets/colab-badge.svg\" alt=\"Open In Colab\"/></a>"
      ]
    },
    {
      "cell_type": "code",
      "execution_count": null,
      "metadata": {
        "id": "99f97q_YXT_N"
      },
      "outputs": [],
      "source": [
        "# List Example: Basic operations\n",
        "\n",
        "# Creating a list of fruits\n",
        "fruits = [\"apple\", \"banana\", \"cherry\"]\n",
        "\n",
        "# Accessing elements\n",
        "print(\"First fruit:\", fruits[0])\n"
      ]
    },
    {
      "cell_type": "code",
      "source": [
        "# Adding a new fruit\n",
        "fruits.append(\"orange\")\n",
        "print(\"Updated list:\", fruits)"
      ],
      "metadata": {
        "id": "kx6MsA0KhUaj"
      },
      "execution_count": null,
      "outputs": []
    },
    {
      "cell_type": "code",
      "source": [
        "# Removing a fruit\n",
        "fruits.remove(\"banana\")\n",
        "print(\"List after removing banana:\", fruits)"
      ],
      "metadata": {
        "id": "RCTficSChUsW"
      },
      "execution_count": null,
      "outputs": []
    },
    {
      "cell_type": "code",
      "source": [
        "# Looping through the list\n",
        "print(\"Fruits in the list:\")\n",
        "for fruit in fruits:\n",
        "    print(\"-\", fruit)\n"
      ],
      "metadata": {
        "id": "SNqkaGaJhVJW"
      },
      "execution_count": null,
      "outputs": []
    },
    {
      "cell_type": "code",
      "source": [
        "# Checking if an item is in the list\n",
        "if \"apple\" in fruits:\n",
        "    print(\"Apple is in the list.\")\n",
        "else:\n",
        "    print(\"Apple is not in the list.\")"
      ],
      "metadata": {
        "id": "bvwic5WqhVUB"
      },
      "execution_count": null,
      "outputs": []
    }
  ]
}