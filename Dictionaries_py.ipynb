{
  "nbformat": 4,
  "nbformat_minor": 0,
  "metadata": {
    "colab": {
      "provenance": [],
      "authorship_tag": "ABX9TyN8HOAG3vvfdN8VrlX5kF3b",
      "include_colab_link": true
    },
    "kernelspec": {
      "name": "python3",
      "display_name": "Python 3"
    },
    "language_info": {
      "name": "python"
    }
  },
  "cells": [
    {
      "cell_type": "markdown",
      "metadata": {
        "id": "view-in-github",
        "colab_type": "text"
      },
      "source": [
        "<a href=\"https://colab.research.google.com/github/asmamasood/python_concept/blob/main/Dictionaries_py.ipynb\" target=\"_parent\"><img src=\"https://colab.research.google.com/assets/colab-badge.svg\" alt=\"Open In Colab\"/></a>"
      ]
    },
    {
      "cell_type": "code",
      "execution_count": null,
      "metadata": {
        "id": "lIUXWxaBk56T"
      },
      "outputs": [],
      "source": [
        "\n",
        "# Dictionaries in Python\n",
        "\n",
        "\n",
        "# 1. Creating a dictionary\n",
        "student = {\n",
        "    \"name\": \"Asma\",\n",
        "    \"age\": 24,\n",
        "    \"course\": \"AI\",\n",
        "    \"is_enrolled\": True\n",
        "}\n",
        "print(\"Student Dictionary:\", student)\n",
        "\n",
        "# 2. Accessing values by key\n",
        "print(\"Student Name:\", student[\"name\"])\n",
        "\n",
        "# 3. Adding a new key-value pair\n",
        "student[\"email\"] = \"asma@example.com\"\n",
        "print(\"After adding email:\", student)\n",
        "\n",
        "# 4. Updating an existing value\n",
        "student[\"age\"] = 25\n",
        "print(\"Updated age:\", student)\n",
        "\n",
        "# 5. Removing a key-value pair\n",
        "del student[\"is_enrolled\"]\n",
        "print(\"After deletion:\", student)\n",
        "\n",
        "# 6. Using get() method (safe access)\n",
        "print(\"Course:\", student.get(\"course\"))\n",
        "print(\"Graduation:\", student.get(\"graduation\", \"Not specified\"))\n",
        "\n",
        "# 7. Looping through a dictionary\n",
        "print(\"🔁 Looping through keys and values:\")\n",
        "for key, value in student.items():\n",
        "    print(key, \":\", value)\n",
        "\n",
        "# 8. Nested dictionary\n",
        "university = {\n",
        "    \"name\": \"Tech University\",\n",
        "    \"location\": \"Pakistan\",\n",
        "    \"departments\": {\n",
        "        \"CS\": {\"hod\": \"Dr. Adeel\", \"students\": 150},\n",
        "        \"AI\": {\"hod\": \"Dr. Sara\", \"students\": 80}\n",
        "    }\n",
        "}\n",
        "print(\"AI Department HOD:\", university[\"departments\"][\"AI\"][\"hod\"])\n",
        "\n",
        "# 9. Dictionary keys must be immutable (e.g., string, number, or tuple)\n",
        "coordinates = {\n",
        "    (33.6844, 73.0479): \"Islamabad\",\n",
        "    (24.8607, 67.0011): \"Karachi\"\n",
        "}\n",
        "print(\"City at (24.8607, 67.0011):\", coordinates[(24.8607, 67.0011)])\n",
        "\n",
        "# 10. Dictionary methods\n",
        "print(\"All keys:\", list(student.keys()))\n",
        "print(\"All values:\", list(student.values()))\n",
        "print(\"All items:\", list(student.items()))\n",
        "print(\"Is 'email' a key?\", \"email\" in student)\n"
      ]
    }
  ]
}